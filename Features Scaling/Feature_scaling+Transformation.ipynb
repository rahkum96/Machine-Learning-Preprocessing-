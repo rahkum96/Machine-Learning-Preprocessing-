{
 "cells": [
  {
   "cell_type": "markdown",
   "id": "d3bb7bd0",
   "metadata": {},
   "source": [
    "# Transformation of Features\n",
    "Why Transformation of Features Are Required?\n",
    "\n",
    "In LR: we have to find the coffeicient, and it will found by gradient desecent, if we donot do transformation, it will affect the step size of and it might we will not find converage.\n",
    "\n",
    "All model based on the Eculiean distance will affect, if we donot do transformation \n",
    "\n",
    "Linear Regression---Gradient Descent ----Global Minima\n",
    "\n",
    "Algorithms like KNN,K Means,Hierarichal Clustering--- Eucledian Distance\n",
    "\n",
    "SVM ---- maximize the marginal distance "
   ]
  },
  {
   "cell_type": "markdown",
   "id": "3fb28551",
   "metadata": {},
   "source": [
    "### Types Of Transformation\n",
    "\n",
    "1. Normalization And Standardization\n",
    "2. Scaling to Minimum And Maximum values\n",
    "3. Scaling To Median And Quantiles\n",
    "4. Guassian Transformation: Logarithmic Transformation,\n",
    "Reciprocal Trnasformation,\n",
    "Square Root Transformation,\n",
    ",Exponential Trnasformation\n",
    ",Box Cox Transformation"
   ]
  },
  {
   "cell_type": "markdown",
   "id": "9c65575e",
   "metadata": {},
   "source": [
    "## 1. Standardization(Why standardization?)\n",
    "Standardization comes into picture when features of input data set have large differences between their ranges, or simply when they are measured in different measurement units (e.g., Pounds, Meters, Miles … etc).\n",
    "\n",
    "**Mean is zero and std of 1**\n",
    "\n",
    "We try to bring all the variables or features to a similar scale. standarisation means centering the variable at zero.\n",
    "z=(x-x_mean)/std"
   ]
  },
  {
   "cell_type": "code",
   "execution_count": 5,
   "id": "f15fdfc9",
   "metadata": {},
   "outputs": [
    {
     "data": {
      "text/html": [
       "<div>\n",
       "<style scoped>\n",
       "    .dataframe tbody tr th:only-of-type {\n",
       "        vertical-align: middle;\n",
       "    }\n",
       "\n",
       "    .dataframe tbody tr th {\n",
       "        vertical-align: top;\n",
       "    }\n",
       "\n",
       "    .dataframe thead th {\n",
       "        text-align: right;\n",
       "    }\n",
       "</style>\n",
       "<table border=\"1\" class=\"dataframe\">\n",
       "  <thead>\n",
       "    <tr style=\"text-align: right;\">\n",
       "      <th></th>\n",
       "      <th>Survived</th>\n",
       "      <th>Pclass</th>\n",
       "      <th>Age</th>\n",
       "      <th>Fare</th>\n",
       "    </tr>\n",
       "  </thead>\n",
       "  <tbody>\n",
       "    <tr>\n",
       "      <th>0</th>\n",
       "      <td>0</td>\n",
       "      <td>3</td>\n",
       "      <td>22.0</td>\n",
       "      <td>7.2500</td>\n",
       "    </tr>\n",
       "    <tr>\n",
       "      <th>1</th>\n",
       "      <td>1</td>\n",
       "      <td>1</td>\n",
       "      <td>38.0</td>\n",
       "      <td>71.2833</td>\n",
       "    </tr>\n",
       "    <tr>\n",
       "      <th>2</th>\n",
       "      <td>1</td>\n",
       "      <td>3</td>\n",
       "      <td>26.0</td>\n",
       "      <td>7.9250</td>\n",
       "    </tr>\n",
       "    <tr>\n",
       "      <th>3</th>\n",
       "      <td>1</td>\n",
       "      <td>1</td>\n",
       "      <td>35.0</td>\n",
       "      <td>53.1000</td>\n",
       "    </tr>\n",
       "    <tr>\n",
       "      <th>4</th>\n",
       "      <td>0</td>\n",
       "      <td>3</td>\n",
       "      <td>35.0</td>\n",
       "      <td>8.0500</td>\n",
       "    </tr>\n",
       "  </tbody>\n",
       "</table>\n",
       "</div>"
      ],
      "text/plain": [
       "   Survived  Pclass   Age     Fare\n",
       "0         0       3  22.0   7.2500\n",
       "1         1       1  38.0  71.2833\n",
       "2         1       3  26.0   7.9250\n",
       "3         1       1  35.0  53.1000\n",
       "4         0       3  35.0   8.0500"
      ]
     },
     "execution_count": 5,
     "metadata": {},
     "output_type": "execute_result"
    }
   ],
   "source": [
    "import pandas as pd\n",
    "df=pd.read_csv('titanic_train.csv',usecols=['Pclass','Age','Fare','Survived'])\n",
    "df.head()"
   ]
  },
  {
   "cell_type": "code",
   "execution_count": 6,
   "id": "abc9f611",
   "metadata": {},
   "outputs": [
    {
     "data": {
      "text/plain": [
       "Survived      0\n",
       "Pclass        0\n",
       "Age         177\n",
       "Fare          0\n",
       "dtype: int64"
      ]
     },
     "execution_count": 6,
     "metadata": {},
     "output_type": "execute_result"
    }
   ],
   "source": [
    "# finding missing value\n",
    "df.isnull().sum()"
   ]
  },
  {
   "cell_type": "code",
   "execution_count": 8,
   "id": "a139db3f",
   "metadata": {},
   "outputs": [
    {
     "data": {
      "text/plain": [
       "Survived    0\n",
       "Pclass      0\n",
       "Age         0\n",
       "Fare        0\n",
       "dtype: int64"
      ]
     },
     "execution_count": 8,
     "metadata": {},
     "output_type": "execute_result"
    }
   ],
   "source": [
    "df['Age'].fillna(df['Age'].mean(),inplace=True)\n",
    "df.isnull().sum()"
   ]
  },
  {
   "cell_type": "code",
   "execution_count": 9,
   "id": "b862ead1",
   "metadata": {},
   "outputs": [],
   "source": [
    "### Independent and dependent features\n",
    "X=df.iloc[:,1:]\n",
    "y=df.iloc[:,0]"
   ]
  },
  {
   "cell_type": "code",
   "execution_count": 10,
   "id": "6d7b0939",
   "metadata": {},
   "outputs": [],
   "source": [
    "from sklearn.model_selection import train_test_split\n",
    "X_train, X_test, y_train, y_test = train_test_split(X, y, test_size=0.33, random_state=42)"
   ]
  },
  {
   "cell_type": "markdown",
   "id": "c8dfca33",
   "metadata": {},
   "source": [
    "##### fit transform\n",
    "fit_transform came in the picture when we do vraibles transformation or any kind of transformation\n",
    "##### fit \n",
    " fit is used for machine learning algorithm"
   ]
  },
  {
   "cell_type": "code",
   "execution_count": 12,
   "id": "78ebdb33",
   "metadata": {},
   "outputs": [],
   "source": [
    "#### standarisation: We use the Standardscaler from sklearn library\n",
    "from sklearn.preprocessing import StandardScaler\n",
    "scaler=StandardScaler()\n",
    "### fit vs fit_transform\n",
    "X_train_scaled=scaler.fit_transform(X_train) #alway give parameter in fit_transform"
   ]
  },
  {
   "cell_type": "code",
   "execution_count": 13,
   "id": "3528fb6e",
   "metadata": {},
   "outputs": [
    {
     "data": {
      "text/plain": [
       "array([[-1.62580285,  1.88957013,  0.38784185],\n",
       "       [ 0.80576177,  0.01073573, -0.31908053],\n",
       "       [-0.41002054, -0.35257881,  0.18792449],\n",
       "       ...,\n",
       "       [ 0.80576177,  0.88446888, -0.34613654],\n",
       "       [-1.62580285, -1.2030491 ,  1.71250117],\n",
       "       [-1.62580285, -0.66184074,  0.8821286 ]])"
      ]
     },
     "execution_count": 13,
     "metadata": {},
     "output_type": "execute_result"
    }
   ],
   "source": [
    "X_train_scaled"
   ]
  },
  {
   "cell_type": "code",
   "execution_count": 33,
   "id": "1b9ecc64",
   "metadata": {},
   "outputs": [
    {
     "data": {
      "text/html": [
       "<div>\n",
       "<style scoped>\n",
       "    .dataframe tbody tr th:only-of-type {\n",
       "        vertical-align: middle;\n",
       "    }\n",
       "\n",
       "    .dataframe tbody tr th {\n",
       "        vertical-align: top;\n",
       "    }\n",
       "\n",
       "    .dataframe thead th {\n",
       "        text-align: right;\n",
       "    }\n",
       "</style>\n",
       "<table border=\"1\" class=\"dataframe\">\n",
       "  <thead>\n",
       "    <tr style=\"text-align: right;\">\n",
       "      <th></th>\n",
       "      <th>0</th>\n",
       "      <th>1</th>\n",
       "      <th>2</th>\n",
       "    </tr>\n",
       "  </thead>\n",
       "  <tbody>\n",
       "    <tr>\n",
       "      <th>0</th>\n",
       "      <td>-1.625803</td>\n",
       "      <td>1.889570</td>\n",
       "      <td>0.387842</td>\n",
       "    </tr>\n",
       "    <tr>\n",
       "      <th>1</th>\n",
       "      <td>0.805762</td>\n",
       "      <td>0.010736</td>\n",
       "      <td>-0.319081</td>\n",
       "    </tr>\n",
       "    <tr>\n",
       "      <th>2</th>\n",
       "      <td>-0.410021</td>\n",
       "      <td>-0.352579</td>\n",
       "      <td>0.187924</td>\n",
       "    </tr>\n",
       "    <tr>\n",
       "      <th>3</th>\n",
       "      <td>0.805762</td>\n",
       "      <td>-0.275263</td>\n",
       "      <td>-0.339412</td>\n",
       "    </tr>\n",
       "    <tr>\n",
       "      <th>4</th>\n",
       "      <td>0.805762</td>\n",
       "      <td>-0.584525</td>\n",
       "      <td>-0.415961</td>\n",
       "    </tr>\n",
       "    <tr>\n",
       "      <th>...</th>\n",
       "      <td>...</td>\n",
       "      <td>...</td>\n",
       "      <td>...</td>\n",
       "    </tr>\n",
       "    <tr>\n",
       "      <th>591</th>\n",
       "      <td>0.805762</td>\n",
       "      <td>-0.661841</td>\n",
       "      <td>-0.471692</td>\n",
       "    </tr>\n",
       "    <tr>\n",
       "      <th>592</th>\n",
       "      <td>-1.625803</td>\n",
       "      <td>0.010736</td>\n",
       "      <td>-0.017745</td>\n",
       "    </tr>\n",
       "    <tr>\n",
       "      <th>593</th>\n",
       "      <td>0.805762</td>\n",
       "      <td>0.884469</td>\n",
       "      <td>-0.346137</td>\n",
       "    </tr>\n",
       "    <tr>\n",
       "      <th>594</th>\n",
       "      <td>-1.625803</td>\n",
       "      <td>-1.203049</td>\n",
       "      <td>1.712501</td>\n",
       "    </tr>\n",
       "    <tr>\n",
       "      <th>595</th>\n",
       "      <td>-1.625803</td>\n",
       "      <td>-0.661841</td>\n",
       "      <td>0.882129</td>\n",
       "    </tr>\n",
       "  </tbody>\n",
       "</table>\n",
       "<p>596 rows × 3 columns</p>\n",
       "</div>"
      ],
      "text/plain": [
       "            0         1         2\n",
       "0   -1.625803  1.889570  0.387842\n",
       "1    0.805762  0.010736 -0.319081\n",
       "2   -0.410021 -0.352579  0.187924\n",
       "3    0.805762 -0.275263 -0.339412\n",
       "4    0.805762 -0.584525 -0.415961\n",
       "..        ...       ...       ...\n",
       "591  0.805762 -0.661841 -0.471692\n",
       "592 -1.625803  0.010736 -0.017745\n",
       "593  0.805762  0.884469 -0.346137\n",
       "594 -1.625803 -1.203049  1.712501\n",
       "595 -1.625803 -0.661841  0.882129\n",
       "\n",
       "[596 rows x 3 columns]"
      ]
     },
     "execution_count": 33,
     "metadata": {},
     "output_type": "execute_result"
    }
   ],
   "source": [
    "scaled_train=pd.DataFrame(X_train_scaled)\n",
    "#df_columns= pd.DataFrame(X.columns)\n",
    "#scaled_train=pd.concat([scaled_train,df_columns],axis=1)\n",
    "#scaled_train.columns=['Survived','Pclass','Age','Fare']\n",
    "scaled_train"
   ]
  },
  {
   "cell_type": "code",
   "execution_count": 14,
   "id": "5553e055",
   "metadata": {},
   "outputs": [],
   "source": [
    "#only transform the test data\n",
    "X_test_scaled=scaler.transform(X_test)"
   ]
  },
  {
   "cell_type": "code",
   "execution_count": 15,
   "id": "e0ad1017",
   "metadata": {},
   "outputs": [
    {
     "data": {
      "text/plain": [
       "array([[ 0.80576177,  0.01073573, -0.32402243],\n",
       "       [-0.41002054,  0.11131407, -0.4162854 ],\n",
       "       [ 0.80576177, -0.73915622, -0.46634591],\n",
       "       [-0.41002054, -1.82157295,  0.0211365 ],\n",
       "       [ 0.80576177, -1.2030491 , -0.40186603],\n",
       "       [-1.62580285, -0.27526333,  0.91250512],\n",
       "       [ 0.80576177,  0.01073573, -0.46974808],\n",
       "       [ 0.80576177, -1.04841814, -0.2704781 ],\n",
       "       [ 0.80576177, -1.04841814, -0.46974808],\n",
       "       [-1.62580285, -0.8164717 , -0.10944269],\n",
       "       [-1.62580285,  0.57520696,  0.41190006],\n",
       "       [ 0.80576177,  1.11641532, -0.46391578],\n",
       "       [ 0.80576177,  0.01073573, -0.12531819],\n",
       "       [ 0.80576177,  0.03399859, -0.47995459],\n",
       "       [-0.41002054,  0.49789148, -0.36768297],\n",
       "       [-1.62580285, -1.04841814,  0.14555873],\n",
       "       [-1.62580285,  0.96178436,  0.40128918],\n",
       "       [ 0.80576177,  0.01073573, -0.46820835],\n",
       "       [-0.41002054, -0.19794785, -0.36768297],\n",
       "       [-1.62580285,  1.34836176,  0.39051499],\n",
       "       [ 0.80576177, -0.4298943 , -0.46691358],\n",
       "       [-1.62580285,  0.34326051, -0.10425778],\n",
       "       [ 0.80576177, -0.8164717 , -0.46772233],\n",
       "       [ 0.80576177, -0.73915622, -0.44107264],\n",
       "       [ 0.80576177,  0.01073573, -0.33852151],\n",
       "       [ 0.80576177, -1.51231103, -0.07801247],\n",
       "       [-1.62580285,  0.8071534 , -0.08149629],\n",
       "       [-0.41002054,  0.11131407, -0.36768297],\n",
       "       [ 0.80576177, -1.97620391, -0.07801247],\n",
       "       [ 0.80576177,  0.11131407, -0.46772233],\n",
       "       [ 0.80576177, -0.8164717 , -0.46691358],\n",
       "       [ 0.80576177, -0.58452526, -0.46974808],\n",
       "       [-1.62580285,  0.01073573, -0.02365939],\n",
       "       [ 0.80576177,  0.01073573, -0.47363627],\n",
       "       [ 0.80576177, -0.89378718, -0.46391578],\n",
       "       [ 0.80576177, -0.19794785, -0.3394119 ],\n",
       "       [-1.62580285, -0.12063237,  0.06973893],\n",
       "       [ 0.80576177,  0.01073573, -0.46974808],\n",
       "       [-1.62580285,  0.03399859, -0.01774545],\n",
       "       [ 0.80576177,  0.01073573, -0.46691358],\n",
       "       [-0.41002054, -0.66184074,  0.80849591],\n",
       "       [ 0.80576177, -0.04331689, -0.48343841],\n",
       "       [ 0.80576177,  0.01073573, -0.46391578],\n",
       "       [ 0.80576177,  0.01073573, -0.46974808],\n",
       "       [ 0.80576177,  1.1937308 , -0.3394119 ],\n",
       "       [ 0.80576177, -1.04841814,  0.04786783],\n",
       "       [ 0.80576177, -0.8164717 , -0.46181033],\n",
       "       [ 0.80576177, -0.50720978, -0.44107264],\n",
       "       [ 0.80576177, -0.4298943 , -0.48335676],\n",
       "       [-1.62580285,  2.19883205,  1.58176062],\n",
       "       [ 0.80576177, -1.89888843, -0.24601552],\n",
       "       [-1.62580285,  1.73493917,  1.19731538],\n",
       "       [ 0.80576177,  0.8071534 , -0.07801247],\n",
       "       [-1.62580285, -1.43499555,  1.71250117],\n",
       "       [ 0.80576177,  2.74004042, -0.46974808],\n",
       "       [-1.62580285, -0.89378718,  0.9280579 ],\n",
       "       [-0.41002054,  0.18862955, -0.4162854 ],\n",
       "       [-1.62580285,  1.58030821,  4.19162962],\n",
       "       [-0.41002054,  0.42057599, -0.21215518],\n",
       "       [ 0.80576177, -0.8164717 , -0.4672363 ],\n",
       "       [ 0.80576177, -0.66184074, -0.46926205],\n",
       "       [-0.41002054, -1.28036459, -0.24131664],\n",
       "       [-0.41002054, -0.12063237, -0.11495032],\n",
       "       [-1.62580285,  0.01073573, -0.11640839],\n",
       "       [ 0.80576177,  0.01073573, -0.46974808],\n",
       "       [-0.41002054,  2.12151657, -0.4162854 ],\n",
       "       [-0.41002054, -0.66184074,  0.80849591],\n",
       "       [ 0.80576177, -0.04331689, -0.46731796],\n",
       "       [ 0.80576177, -0.97110266, -0.47987294],\n",
       "       [-1.62580285,  1.73493917,  0.9011652 ],\n",
       "       [-0.41002054, -0.27526333, -0.11495032],\n",
       "       [-1.62580285, -0.89378718,  4.48040973],\n",
       "       [-1.62580285, -0.27526333, -0.03718642],\n",
       "       [-1.62580285,  0.72983792,  0.99626266],\n",
       "       [ 0.80576177, -0.50720978, -0.46772233],\n",
       "       [ 0.80576177,  0.49789148, -0.31810849],\n",
       "       [ 0.80576177,  0.07265633, -0.46974808],\n",
       "       [-1.62580285, -0.58452526,  0.34191255],\n",
       "       [-0.41002054,  0.65252244, -0.36768297],\n",
       "       [ 0.80576177,  0.88446888, -0.22746495],\n",
       "       [ 0.80576177, -1.04841814,  0.15114801],\n",
       "       [-0.41002054, -0.04331689, -0.4162854 ],\n",
       "       [-1.62580285,  0.8071534 ,  1.99439528],\n",
       "       [ 0.80576177,  0.01073573, -0.46999109],\n",
       "       [-1.62580285,  2.04420109, -0.02365939],\n",
       "       [-1.62580285,  3.20393331,  0.34199421],\n",
       "       [-1.62580285,  0.11131407,  1.58176062],\n",
       "       [-1.62580285,  0.03399859,  0.48634343],\n",
       "       [-1.62580285,  0.65252244, -0.62041562],\n",
       "       [ 0.80576177,  0.01073573, -0.47946856],\n",
       "       [ 0.80576177, -1.58962651, -0.22138964],\n",
       "       [ 0.80576177, -1.58962651, -0.01239918],\n",
       "       [-1.62580285,  2.4307785 ,  0.00793219],\n",
       "       [ 0.80576177,  0.01073573, -0.47015245],\n",
       "       [ 0.80576177,  0.01073573, -0.46691358],\n",
       "       [ 0.80576177, -0.12063237, -0.46772233],\n",
       "       [-1.62580285,  1.42567725,  0.39051499],\n",
       "       [ 0.80576177,  1.1937308 , -0.46391578],\n",
       "       [-0.41002054,  0.49789148, -0.36768297],\n",
       "       [ 0.80576177, -0.19794785, -0.46691358],\n",
       "       [-1.62580285,  2.66272494, -0.11495032],\n",
       "       [ 0.80576177,  0.42057599, -0.48189869],\n",
       "       [-1.62580285, -0.8164717 ,  1.15025267],\n",
       "       [ 0.80576177,  0.65252244, -0.48335676],\n",
       "       [ 0.80576177,  0.07265633, -0.46391578],\n",
       "       [ 0.80576177, -0.35257881, -0.46926205],\n",
       "       [-0.41002054,  0.8071534 ,  0.13778234],\n",
       "       [-1.62580285,  1.34836176,  0.12806185],\n",
       "       [ 0.80576177,  0.03399859, -0.43572637],\n",
       "       [-1.62580285,  0.8071534 , -0.01774545],\n",
       "       [-1.62580285,  0.01073573,  0.39051499],\n",
       "       [ 0.80576177, -0.70049848, -0.47946856],\n",
       "       [-1.62580285,  0.01073573,  1.11185675],\n",
       "       [-1.62580285,  0.49789148, -0.10936104],\n",
       "       [-1.62580285,  0.01073573,  3.69118787],\n",
       "       [ 0.80576177, -0.73915622, -0.42900369],\n",
       "       [-1.62580285,  3.20393331,  0.05329575],\n",
       "       [-0.41002054,  0.49789148, -0.37011309],\n",
       "       [-0.41002054, -0.58452526, -0.0566274 ],\n",
       "       [ 0.80576177,  1.42567725,  0.04786783],\n",
       "       [-0.41002054, -0.50720978, -0.39684443],\n",
       "       [-1.62580285,  0.18862955,  0.86276928],\n",
       "       [-1.62580285,  2.58540946,  0.8951696 ],\n",
       "       [-0.41002054, -2.22129399, -0.0566274 ],\n",
       "       [ 0.80576177, -0.35257881, -0.47946856],\n",
       "       [-1.62580285,  0.42057599, -0.10425778],\n",
       "       [-1.62580285,  1.50299273, -0.11632674],\n",
       "       [-1.62580285, -0.4298943 ,  0.91930946],\n",
       "       [ 0.80576177,  0.01073573, -0.3393322 ],\n",
       "       [ 0.80576177, -0.66184074, -0.46391578],\n",
       "       [ 0.80576177,  0.01073573, -0.4672363 ],\n",
       "       [ 0.80576177,  0.01073573, -0.32402243],\n",
       "       [-0.41002054,  0.01073573, -0.62041562],\n",
       "       [ 0.80576177, -1.89888843, -0.37788948],\n",
       "       [-1.62580285,  1.50299273,  0.48634343],\n",
       "       [ 0.80576177, -1.12573362, -0.3394119 ],\n",
       "       [-1.62580285,  0.01073573,  1.53526365],\n",
       "       [ 0.80576177, -0.04331689, -0.46926205],\n",
       "       [ 0.80576177,  0.96178436, -0.47363627],\n",
       "       [ 0.80576177, -0.89378718, -0.2743663 ],\n",
       "       [ 0.80576177, -0.66184074, -0.45646406],\n",
       "       [-0.41002054,  1.11641532, -0.11495032],\n",
       "       [-0.41002054, -0.12063237, -0.36768297],\n",
       "       [-0.41002054,  0.57520696, -0.11495032],\n",
       "       [ 0.80576177,  0.72983792, -0.05419727],\n",
       "       [-0.41002054,  0.34326051,  0.01141601],\n",
       "       [-0.41002054,  0.03399859, -0.36768297],\n",
       "       [-0.41002054,  2.8173559 , -0.4162854 ],\n",
       "       [-1.62580285,  0.01073573,  2.22809133],\n",
       "       [ 0.80576177,  1.03909984, -0.46391578],\n",
       "       [ 0.80576177,  0.01073573, -0.45103614],\n",
       "       [ 0.80576177, -0.4298943 , -0.47468997],\n",
       "       [ 0.80576177, -0.89378718, -0.46885768],\n",
       "       [ 0.80576177,  0.01073573, -0.15091612],\n",
       "       [ 0.80576177,  0.01073573, -0.46391578],\n",
       "       [ 0.80576177,  0.01073573, -0.48335676],\n",
       "       [ 0.80576177,  0.01073573,  0.47791772],\n",
       "       [ 0.80576177,  0.01073573, -0.46901904],\n",
       "       [-0.41002054,  0.49789148, -0.11495032],\n",
       "       [ 0.80576177,  0.18862955, -0.31908053],\n",
       "       [ 0.80576177, -0.46855204, -0.47987294],\n",
       "       [-1.62580285,  0.01073573, -0.10425778],\n",
       "       [-0.41002054,  0.72983792, -0.36768297],\n",
       "       [-1.62580285,  0.01073573,  0.9770647 ],\n",
       "       [ 0.80576177,  0.01073573, -0.45597804],\n",
       "       [-1.62580285,  2.74004042,  0.58452035],\n",
       "       [-0.41002054, -0.50720978, -0.4162854 ],\n",
       "       [-1.62580285,  0.01073573,  0.38784185],\n",
       "       [ 0.80576177, -0.58452526, -0.46691358],\n",
       "       [ 0.80576177,  0.42057599, -0.48335676],\n",
       "       [-1.62580285, -0.50720978,  0.61133139],\n",
       "       [-0.41002054, -0.89378718, -0.36768297],\n",
       "       [-1.62580285,  0.49789148, -0.10741694],\n",
       "       [ 0.80576177, -1.58962651, -0.32402243],\n",
       "       [ 0.80576177, -0.97110266, -0.48189869],\n",
       "       [ 0.80576177,  0.01073573, -0.47995459],\n",
       "       [ 0.80576177,  0.65252244, -0.01021207],\n",
       "       [-0.41002054, -0.97110266, -0.4162854 ],\n",
       "       [ 0.80576177, -1.97620391, -0.29575137],\n",
       "       [-1.62580285,  1.23238854, -0.06634788],\n",
       "       [-0.41002054, -0.50720978, -0.36768297],\n",
       "       [ 0.80576177,  0.18862955, -0.46634591],\n",
       "       [ 0.80576177, -0.27526333, -0.46772233],\n",
       "       [ 0.80576177, -1.82157295, -0.01239918],\n",
       "       [-1.62580285, -0.4298943 ,  4.19162962],\n",
       "       [-1.62580285,  1.1937308 , -0.10425778],\n",
       "       [-0.41002054, -0.04331689, -0.08149629],\n",
       "       [ 0.80576177,  0.01073573, -0.46691358],\n",
       "       [-1.62580285,  0.01073573,  0.06973893],\n",
       "       [-0.41002054,  0.96178436, -0.36768297],\n",
       "       [ 0.80576177,  0.49789148, -0.15091612],\n",
       "       [-0.41002054,  0.26594503, -0.38177767],\n",
       "       [ 0.80576177, -0.97110266, -0.48327511],\n",
       "       [ 0.80576177, -0.04331689, -0.43572637],\n",
       "       [-0.41002054,  1.58030821, -0.11495032],\n",
       "       [-1.62580285,  0.42057599,  1.12927197],\n",
       "       [-1.62580285,  0.65252244,  3.80289181],\n",
       "       [-0.41002054,  0.34326051, -0.36768297],\n",
       "       [-1.62580285, -0.97110266,  0.48771985],\n",
       "       [ 0.80576177, -1.43499555, -0.01239918],\n",
       "       [ 0.80576177,  2.4307785 , -0.49915255],\n",
       "       [ 0.80576177,  0.03399859, -0.45200819],\n",
       "       [-0.41002054, -1.74425747, -0.11009007],\n",
       "       [ 0.80576177,  2.58540946, -0.43402529],\n",
       "       [ 0.80576177, -0.73915622, -0.47987294],\n",
       "       [ 0.80576177,  0.01073573, -0.18574851],\n",
       "       [ 0.80576177, -0.04331689, -0.43605104],\n",
       "       [-1.62580285,  0.49789148,  1.71250117],\n",
       "       [ 0.80576177,  0.01073573, -0.3393322 ],\n",
       "       [ 0.80576177,  1.58030821, -0.46391578],\n",
       "       [-1.62580285, -0.19794785,  3.49135022],\n",
       "       [ 0.80576177,  0.03399859, -0.47946856],\n",
       "       [-1.62580285,  0.26594503,  1.12927197],\n",
       "       [ 0.80576177,  0.01073573, -0.4702341 ],\n",
       "       [ 0.80576177,  0.01073573, -0.12531819],\n",
       "       [ 0.80576177, -2.13083487, -0.21069711],\n",
       "       [-0.41002054, -0.35257881, -0.03718642],\n",
       "       [-1.62580285,  1.65762369,  0.57285576],\n",
       "       [-0.41002054, -0.35257881, -0.11495032],\n",
       "       [ 0.80576177,  0.01073573, -0.47946856],\n",
       "       [ 0.80576177,  0.01073573, -0.46691358],\n",
       "       [-0.41002054, -0.4298943 , -0.36768297],\n",
       "       [ 0.80576177, -0.89378718, -0.22746495],\n",
       "       [-1.62580285,  0.01073573, -0.02746594],\n",
       "       [ 0.80576177, -0.35257881, -0.48335676],\n",
       "       [-0.41002054, -0.4298943 , -0.33852151],\n",
       "       [ 0.80576177, -0.58452526, -0.47420395],\n",
       "       [-1.62580285, -2.21433559,  2.32586387],\n",
       "       [-0.41002054, -0.4298943 , -0.11495032],\n",
       "       [ 0.80576177, -0.27526333, -0.46634591],\n",
       "       [-0.41002054,  0.34326051, -0.21215518],\n",
       "       [-1.62580285, -0.66184074,  4.48040973],\n",
       "       [ 0.80576177,  0.01073573, -0.46974808],\n",
       "       [ 0.80576177,  0.01073573, -0.47987294],\n",
       "       [ 0.80576177,  0.01073573, -0.45200819],\n",
       "       [ 0.80576177, -0.58452526, -0.46926205],\n",
       "       [-1.62580285,  2.50809398,  0.93486224],\n",
       "       [ 0.80576177, -0.89378718, -0.42908339],\n",
       "       [-1.62580285,  0.96178436,  3.80289181],\n",
       "       [-0.41002054,  2.12151657, -0.3803196 ],\n",
       "       [ 0.80576177, -0.8164717 , -0.62041562],\n",
       "       [-0.41002054,  0.96178436, -0.11495032],\n",
       "       [ 0.80576177,  0.01073573, -0.47995459],\n",
       "       [ 0.80576177, -0.73915622, -0.45200819],\n",
       "       [ 0.80576177,  0.38191825, -0.49526435],\n",
       "       [ 0.80576177, -0.12063237, -0.43572637],\n",
       "       [ 0.80576177,  0.01073573, -0.46391578],\n",
       "       [ 0.80576177, -0.50720978, -0.46691358],\n",
       "       [ 0.80576177, -0.58452526, -0.47946856],\n",
       "       [-1.62580285,  1.73493917, -0.02746594],\n",
       "       [ 0.80576177,  0.03399859, -0.37788948],\n",
       "       [-0.41002054,  0.53654922, -0.11495032],\n",
       "       [ 0.80576177,  0.01073573, -0.46974808],\n",
       "       [ 0.80576177, -0.58452526, -0.47987294],\n",
       "       [-1.62580285,  1.58030821,  1.97787045],\n",
       "       [ 0.80576177, -0.19794785, -0.48481483],\n",
       "       [ 0.80576177, -0.58452526, -0.46391578],\n",
       "       [-1.62580285,  1.65762369,  0.8951696 ],\n",
       "       [-0.41002054,  0.49789148, -0.4162854 ],\n",
       "       [-0.41002054, -0.04331689, -0.11495032],\n",
       "       [-1.62580285, -0.58452526,  2.32586387],\n",
       "       [-1.62580285,  1.58030821,  1.44858996],\n",
       "       [-0.41002054,  0.8071534 , -0.36768297],\n",
       "       [ 0.80576177, -0.19794785, -0.45200819],\n",
       "       [-1.62580285,  0.01073573, -0.62041562],\n",
       "       [-1.62580285,  2.74004042, -0.10425778],\n",
       "       [ 0.80576177, -0.97110266, -0.45200819],\n",
       "       [-1.62580285, -0.12063237, -0.10425778],\n",
       "       [-1.62580285, -1.97620391,  0.9709894 ],\n",
       "       [ 0.80576177,  0.01073573, -0.46691358],\n",
       "       [ 0.80576177, -2.20815036, -0.40397343],\n",
       "       [-0.41002054,  0.49789148, -0.08092861],\n",
       "       [-0.41002054,  1.03909984, -0.11009007],\n",
       "       [-1.62580285,  0.65252244,  2.36304473],\n",
       "       [-0.41002054,  0.11131407, -0.11009007],\n",
       "       [ 0.80576177, -0.04331689, -0.46391578],\n",
       "       [ 0.80576177, -0.89378718, -0.45905554],\n",
       "       [-0.41002054,  0.01073573, -0.32782897],\n",
       "       [-1.62580285,  0.72983792,  1.53526365],\n",
       "       [-0.41002054,  0.72983792, -0.36768297],\n",
       "       [ 0.80576177, -0.27526333, -0.45200819],\n",
       "       [ 0.80576177, -0.73915622, -0.48335676],\n",
       "       [-1.62580285,  0.01073573,  1.97787045],\n",
       "       [ 0.80576177,  1.50299273, -0.62041562],\n",
       "       [-0.41002054, -0.50720978, -0.32791062],\n",
       "       [ 0.80576177, -2.20815036,  0.15114801],\n",
       "       [ 0.80576177,  0.01073573, -0.4672363 ],\n",
       "       [ 0.80576177,  0.01073573, -0.1645248 ],\n",
       "       [-0.41002054, -2.05351939, -0.11495032],\n",
       "       [ 0.80576177, -1.97620391, -0.40397343],\n",
       "       [ 0.80576177, -0.8164717 , -0.47169217],\n",
       "       [ 0.80576177,  0.84581114, -0.46974808],\n",
       "       [ 0.80576177, -2.20815036, -0.31438165],\n",
       "       [ 0.80576177,  0.01073573, -0.32402243],\n",
       "       [ 0.80576177, -0.66184074, -0.46634591]])"
      ]
     },
     "execution_count": 15,
     "metadata": {},
     "output_type": "execute_result"
    }
   ],
   "source": [
    "X_test_scaled"
   ]
  },
  {
   "cell_type": "markdown",
   "id": "19b976f6",
   "metadata": {},
   "source": [
    "#### Model Building\n",
    "##### fit() for training and predict for test"
   ]
  },
  {
   "cell_type": "code",
   "execution_count": 22,
   "id": "5cfb4bd4",
   "metadata": {},
   "outputs": [
    {
     "data": {
      "text/plain": [
       "LogisticRegression()"
      ]
     },
     "execution_count": 22,
     "metadata": {},
     "output_type": "execute_result"
    }
   ],
   "source": [
    "from sklearn.linear_model import LogisticRegression\n",
    "classification=LogisticRegression()\n",
    "classification.fit(X_train_scaled,y_train)"
   ]
  },
  {
   "cell_type": "code",
   "execution_count": 23,
   "id": "24afbe45",
   "metadata": {},
   "outputs": [
    {
     "data": {
      "text/plain": [
       "array([0, 0, 0, 1, 0, 1, 0, 0, 0, 1, 1, 0, 0, 0, 0, 1, 1, 0, 0, 1, 0, 1,\n",
       "       0, 0, 0, 0, 1, 0, 0, 0, 0, 0, 1, 0, 0, 0, 1, 0, 1, 0, 1, 0, 0, 0,\n",
       "       0, 0, 0, 0, 0, 1, 0, 1, 0, 1, 0, 1, 0, 1, 0, 0, 0, 1, 0, 1, 0, 0,\n",
       "       1, 0, 0, 1, 0, 1, 1, 1, 0, 0, 0, 1, 0, 0, 0, 0, 1, 0, 0, 0, 1, 1,\n",
       "       1, 0, 0, 0, 0, 0, 0, 0, 1, 0, 0, 0, 0, 0, 1, 0, 0, 0, 0, 1, 0, 1,\n",
       "       1, 0, 1, 1, 1, 0, 0, 0, 0, 0, 0, 1, 0, 1, 0, 1, 0, 1, 0, 0, 0, 0,\n",
       "       0, 0, 1, 0, 1, 0, 0, 0, 0, 0, 0, 0, 0, 0, 0, 0, 1, 0, 0, 0, 0, 0,\n",
       "       0, 0, 0, 0, 0, 0, 0, 1, 0, 1, 0, 0, 0, 1, 0, 0, 1, 0, 1, 0, 0, 0,\n",
       "       0, 0, 0, 1, 0, 0, 0, 0, 1, 1, 0, 0, 1, 0, 0, 0, 0, 0, 0, 1, 1, 0,\n",
       "       1, 0, 0, 0, 1, 0, 0, 0, 0, 1, 0, 0, 1, 0, 1, 0, 0, 0, 0, 1, 0, 0,\n",
       "       0, 0, 0, 1, 0, 0, 0, 1, 0, 0, 0, 1, 0, 0, 0, 0, 0, 0, 1, 0, 0, 0,\n",
       "       0, 0, 0, 0, 0, 0, 0, 0, 0, 0, 0, 0, 1, 0, 0, 1, 0, 0, 1, 1, 0, 0,\n",
       "       1, 0, 0, 1, 1, 0, 0, 0, 0, 1, 0, 0, 0, 0, 1, 0, 0, 0, 1, 0, 0, 0,\n",
       "       0, 0, 1, 0, 0, 0, 0, 0, 0], dtype=int64)"
      ]
     },
     "execution_count": 23,
     "metadata": {},
     "output_type": "execute_result"
    }
   ],
   "source": [
    "classification.predict(X_test_scaled)"
   ]
  },
  {
   "cell_type": "code",
   "execution_count": 35,
   "id": "a38e8c11",
   "metadata": {},
   "outputs": [
    {
     "name": "stderr",
     "output_type": "stream",
     "text": [
      "C:\\Users\\Rohit Kumar (Prince)\\anaconda3\\lib\\site-packages\\seaborn\\distributions.py:2557: FutureWarning: `distplot` is a deprecated function and will be removed in a future version. Please adapt your code to use either `displot` (a figure-level function with similar flexibility) or `histplot` (an axes-level function for histograms).\n",
      "  warnings.warn(msg, FutureWarning)\n"
     ]
    },
    {
     "data": {
      "text/plain": [
       "<AxesSubplot:xlabel='1', ylabel='Density'>"
      ]
     },
     "execution_count": 35,
     "metadata": {},
     "output_type": "execute_result"
    },
    {
     "data": {
      "image/png": "[encoded data removed]",
      "text/plain": [
       "<Figure size 432x288 with 1 Axes>"
      ]
     },
     "metadata": {
      "needs_background": "light"
     },
     "output_type": "display_data"
    }
   ],
   "source": [
    "import seaborn as sns\n",
    "sns.distplot(scaled_train[1])"
   ]
  },
  {
   "cell_type": "code",
   "execution_count": 36,
   "id": "404b7e81",
   "metadata": {},
   "outputs": [
    {
     "name": "stderr",
     "output_type": "stream",
     "text": [
      "C:\\Users\\Rohit Kumar (Prince)\\anaconda3\\lib\\site-packages\\seaborn\\distributions.py:2557: FutureWarning: `distplot` is a deprecated function and will be removed in a future version. Please adapt your code to use either `displot` (a figure-level function with similar flexibility) or `histplot` (an axes-level function for histograms).\n",
      "  warnings.warn(msg, FutureWarning)\n"
     ]
    },
    {
     "data": {
      "text/plain": [
       "<AxesSubplot:xlabel='2', ylabel='Density'>"
      ]
     },
     "execution_count": 36,
     "metadata": {},
     "output_type": "execute_result"
    },
    {
     "data": {
      "image/png": "[encoded data removed]",
      "text/plain": [
       "<Figure size 432x288 with 1 Axes>"
      ]
     },
     "metadata": {
      "needs_background": "light"
     },
     "output_type": "display_data"
    }
   ],
   "source": [
    "import seaborn as sns\n",
    "sns.distplot(scaled_train[2])"
   ]
  },
  {
   "cell_type": "markdown",
   "id": "d4d9a1ac",
   "metadata": {},
   "source": [
    "## 2. Min Max Scaling (### CNN)---Deep Learning Techniques\n",
    "Min Max Scaling scales the values between 0 to 1. \n",
    "\n",
    "X_scaled = (X - X.min / (X.max - X.min)"
   ]
  },
  {
   "cell_type": "code",
   "execution_count": 37,
   "id": "8ceb1dba",
   "metadata": {},
   "outputs": [],
   "source": [
    "from sklearn.model_selection import train_test_split\n",
    "X_train, X_test, y_train, y_test = train_test_split(X, y, test_size=0.33, random_state=42)"
   ]
  },
  {
   "cell_type": "code",
   "execution_count": 41,
   "id": "0b97f154",
   "metadata": {},
   "outputs": [
    {
     "data": {
      "text/html": [
       "<div>\n",
       "<style scoped>\n",
       "    .dataframe tbody tr th:only-of-type {\n",
       "        vertical-align: middle;\n",
       "    }\n",
       "\n",
       "    .dataframe tbody tr th {\n",
       "        vertical-align: top;\n",
       "    }\n",
       "\n",
       "    .dataframe thead th {\n",
       "        text-align: right;\n",
       "    }\n",
       "</style>\n",
       "<table border=\"1\" class=\"dataframe\">\n",
       "  <thead>\n",
       "    <tr style=\"text-align: right;\">\n",
       "      <th></th>\n",
       "      <th>0</th>\n",
       "      <th>1</th>\n",
       "      <th>2</th>\n",
       "    </tr>\n",
       "  </thead>\n",
       "  <tbody>\n",
       "    <tr>\n",
       "      <th>0</th>\n",
       "      <td>0.0</td>\n",
       "      <td>0.673285</td>\n",
       "      <td>0.101229</td>\n",
       "    </tr>\n",
       "    <tr>\n",
       "      <th>1</th>\n",
       "      <td>1.0</td>\n",
       "      <td>0.367921</td>\n",
       "      <td>0.030254</td>\n",
       "    </tr>\n",
       "    <tr>\n",
       "      <th>2</th>\n",
       "      <td>0.5</td>\n",
       "      <td>0.308872</td>\n",
       "      <td>0.081157</td>\n",
       "    </tr>\n",
       "    <tr>\n",
       "      <th>3</th>\n",
       "      <td>1.0</td>\n",
       "      <td>0.321438</td>\n",
       "      <td>0.028213</td>\n",
       "    </tr>\n",
       "    <tr>\n",
       "      <th>4</th>\n",
       "      <td>1.0</td>\n",
       "      <td>0.271174</td>\n",
       "      <td>0.020527</td>\n",
       "    </tr>\n",
       "  </tbody>\n",
       "</table>\n",
       "</div>"
      ],
      "text/plain": [
       "     0         1         2\n",
       "0  0.0  0.673285  0.101229\n",
       "1  1.0  0.367921  0.030254\n",
       "2  0.5  0.308872  0.081157\n",
       "3  1.0  0.321438  0.028213\n",
       "4  1.0  0.271174  0.020527"
      ]
     },
     "execution_count": 41,
     "metadata": {},
     "output_type": "execute_result"
    }
   ],
   "source": [
    "from sklearn.preprocessing import MinMaxScaler\n",
    "min_max=MinMaxScaler()\n",
    "df_minmax_train=pd.DataFrame(min_max.fit_transform(X_train))\n",
    "df_minmax_train.head()"
   ]
  },
  {
   "cell_type": "code",
   "execution_count": 44,
   "id": "8d851a5b",
   "metadata": {},
   "outputs": [
    {
     "data": {
      "text/plain": [
       "<seaborn.axisgrid.PairGrid at 0x17f02874a60>"
      ]
     },
     "execution_count": 44,
     "metadata": {},
     "output_type": "execute_result"
    },
    {
     "data": {
      "image/png": "[encoded data removed]",
      "text/plain": [
       "<Figure size 540x540 with 12 Axes>"
      ]
     },
     "metadata": {
      "needs_background": "light"
     },
     "output_type": "display_data"
    }
   ],
   "source": [
    "sns.pairplot(df_minmax_train)"
   ]
  },
  {
   "cell_type": "code",
   "execution_count": 45,
   "id": "ad9517c0",
   "metadata": {},
   "outputs": [
    {
     "data": {
      "text/plain": [
       "(array([ 29.,   9.,   9.,  23.,  50.,  63.,  62., 174.,  50.,  25.,  24.,\n",
       "         27.,  16.,  15.,  10.,   5.,   0.,   3.,   1.,   1.]),\n",
       " array([0.  , 0.05, 0.1 , 0.15, 0.2 , 0.25, 0.3 , 0.35, 0.4 , 0.45, 0.5 ,\n",
       "        0.55, 0.6 , 0.65, 0.7 , 0.75, 0.8 , 0.85, 0.9 , 0.95, 1.  ]),\n",
       " <BarContainer object of 20 artists>)"
      ]
     },
     "execution_count": 45,
     "metadata": {},
     "output_type": "execute_result"
    },
    {
     "data": {
      "image/png": "[encoded data removed]",
      "text/plain": [
       "<Figure size 432x288 with 1 Axes>"
      ]
     },
     "metadata": {
      "needs_background": "light"
     },
     "output_type": "display_data"
    }
   ],
   "source": [
    "import matplotlib.pyplot as plt\n",
    "plt.hist(df_minmax_train[1],bins=20)"
   ]
  },
  {
   "cell_type": "markdown",
   "id": "3de7ce13",
   "metadata": {},
   "source": [
    "## Robust Scaler\n",
    "Robust Scaler are robust to outliers.It is used to scale the feature to median and quantiles\n",
    "Scaling using median and quantiles consists of substracting the median to all the observations, and then dividing by the interquantile difference. The interquantile difference is the difference between the 75th and 25th quantile:\n",
    "\n",
    "IQR = 75th quantile - 25th quantile\n",
    "\n",
    "X_scaled = (X - X.median) / IQR"
   ]
  },
  {
   "cell_type": "markdown",
   "id": "0b3a6b37",
   "metadata": {},
   "source": [
    "0,1,2,3,4,5,6,7,8,9,10\n",
    "\n",
    "9-90 percentile---90% of all values in this group is less than 9 1-10 precentile---10% of all values in this group is less than 1 4-40%"
   ]
  },
  {
   "cell_type": "code",
   "execution_count": null,
   "id": "19f259d6",
   "metadata": {},
   "outputs": [],
   "source": [
    "from sklearn.model_selection import train_test_split\n",
    "X_train, X_test, y_train, y_test = train_test_split(X, y, test_size=0.33, random_state=42)"
   ]
  },
  {
   "cell_type": "code",
   "execution_count": 47,
   "id": "788b75df",
   "metadata": {},
   "outputs": [
    {
     "data": {
      "text/html": [
       "<div>\n",
       "<style scoped>\n",
       "    .dataframe tbody tr th:only-of-type {\n",
       "        vertical-align: middle;\n",
       "    }\n",
       "\n",
       "    .dataframe tbody tr th {\n",
       "        vertical-align: top;\n",
       "    }\n",
       "\n",
       "    .dataframe thead th {\n",
       "        text-align: right;\n",
       "    }\n",
       "</style>\n",
       "<table border=\"1\" class=\"dataframe\">\n",
       "  <thead>\n",
       "    <tr style=\"text-align: right;\">\n",
       "      <th></th>\n",
       "      <th>0</th>\n",
       "      <th>1</th>\n",
       "      <th>2</th>\n",
       "    </tr>\n",
       "  </thead>\n",
       "  <tbody>\n",
       "    <tr>\n",
       "      <th>0</th>\n",
       "      <td>-2.0</td>\n",
       "      <td>1.869299</td>\n",
       "      <td>1.602069</td>\n",
       "    </tr>\n",
       "    <tr>\n",
       "      <th>1</th>\n",
       "      <td>0.0</td>\n",
       "      <td>0.000000</td>\n",
       "      <td>0.044788</td>\n",
       "    </tr>\n",
       "    <tr>\n",
       "      <th>2</th>\n",
       "      <td>-1.0</td>\n",
       "      <td>-0.361471</td>\n",
       "      <td>1.161670</td>\n",
       "    </tr>\n",
       "    <tr>\n",
       "      <th>3</th>\n",
       "      <td>0.0</td>\n",
       "      <td>-0.284548</td>\n",
       "      <td>0.000000</td>\n",
       "    </tr>\n",
       "    <tr>\n",
       "      <th>4</th>\n",
       "      <td>0.0</td>\n",
       "      <td>-0.592240</td>\n",
       "      <td>-0.168630</td>\n",
       "    </tr>\n",
       "  </tbody>\n",
       "</table>\n",
       "</div>"
      ],
      "text/plain": [
       "     0         1         2\n",
       "0 -2.0  1.869299  1.602069\n",
       "1  0.0  0.000000  0.044788\n",
       "2 -1.0 -0.361471  1.161670\n",
       "3  0.0 -0.284548  0.000000\n",
       "4  0.0 -0.592240 -0.168630"
      ]
     },
     "execution_count": 47,
     "metadata": {},
     "output_type": "execute_result"
    }
   ],
   "source": [
    "from sklearn.preprocessing import RobustScaler\n",
    "scaler=RobustScaler()\n",
    "df_robust_scaler=pd.DataFrame(scaler.fit_transform(X_train))\n",
    "df_robust_scaler.head()\n"
   ]
  },
  {
   "cell_type": "code",
   "execution_count": 49,
   "id": "191a45b5",
   "metadata": {},
   "outputs": [
    {
     "data": {
      "text/plain": [
       "array([[ 0.00000000e+00,  0.00000000e+00,  3.39014989e-02],\n",
       "       [-1.00000000e+00,  1.00067873e-01, -1.69344754e-01],\n",
       "       [ 0.00000000e+00, -7.46085973e-01, -2.79623126e-01],\n",
       "       [-1.00000000e+00, -1.82300905e+00,  7.94252677e-01],\n",
       "       [ 0.00000000e+00, -1.20762443e+00, -1.37580300e-01],\n",
       "       [-2.00000000e+00, -2.84547511e-01,  2.75785011e+00],\n",
       "       [ 0.00000000e+00,  0.00000000e+00, -2.87117773e-01],\n",
       "       [ 0.00000000e+00, -1.05377828e+00,  1.51854390e-01],\n",
       "       [ 0.00000000e+00, -1.05377828e+00, -2.87117773e-01],\n",
       "       [-2.00000000e+00, -8.23009050e-01,  5.06599572e-01],\n",
       "       [-2.00000000e+00,  5.61606335e-01,  1.65506638e+00],\n",
       "       [ 0.00000000e+00,  1.10006787e+00, -2.74269807e-01],\n",
       "       [ 0.00000000e+00,  0.00000000e+00,  4.71627409e-01],\n",
       "       [ 0.00000000e+00,  2.31447964e-02, -3.09601713e-01],\n",
       "       [-1.00000000e+00,  4.84683258e-01, -6.22783726e-02],\n",
       "       [-2.00000000e+00, -1.05377828e+00,  1.06834261e+00],\n",
       "       [-2.00000000e+00,  9.46221719e-01,  1.63169165e+00],\n",
       "       [ 0.00000000e+00,  0.00000000e+00, -2.83725910e-01],\n",
       "       [-1.00000000e+00, -2.07624434e-01, -6.22783726e-02],\n",
       "       [-2.00000000e+00,  1.33083710e+00,  1.60795717e+00],\n",
       "       [ 0.00000000e+00, -4.38393665e-01, -2.80873662e-01],\n",
       "       [-2.00000000e+00,  3.30837104e-01,  5.18021413e-01],\n",
       "       [ 0.00000000e+00, -8.23009050e-01, -2.82655246e-01],\n",
       "       [ 0.00000000e+00, -7.46085973e-01, -2.23948608e-01],\n",
       "       [ 0.00000000e+00,  0.00000000e+00,  1.96145610e-03],\n",
       "       [ 0.00000000e+00, -1.51531674e+00,  5.75837259e-01],\n",
       "       [-2.00000000e+00,  7.92375566e-01,  5.68162741e-01],\n",
       "       [-1.00000000e+00,  1.00067873e-01, -6.22783726e-02],\n",
       "       [ 0.00000000e+00, -1.97685520e+00,  5.75837259e-01],\n",
       "       [ 0.00000000e+00,  1.00067873e-01, -2.82655246e-01],\n",
       "       [ 0.00000000e+00, -8.23009050e-01, -2.80873662e-01],\n",
       "       [ 0.00000000e+00, -5.92239819e-01, -2.87117773e-01],\n",
       "       [-2.00000000e+00,  0.00000000e+00,  6.95571734e-01],\n",
       "       [ 0.00000000e+00,  0.00000000e+00, -2.95683084e-01],\n",
       "       [ 0.00000000e+00, -8.99932127e-01, -2.74269807e-01],\n",
       "       [ 0.00000000e+00, -2.07624434e-01,  0.00000000e+00],\n",
       "       [-2.00000000e+00, -1.30701357e-01,  9.01319058e-01],\n",
       "       [ 0.00000000e+00,  0.00000000e+00, -2.87117773e-01],\n",
       "       [-2.00000000e+00,  2.31447964e-02,  7.08599572e-01],\n",
       "       [ 0.00000000e+00,  0.00000000e+00, -2.80873662e-01],\n",
       "       [-1.00000000e+00, -6.69162896e-01,  2.52872805e+00],\n",
       "       [ 0.00000000e+00, -5.37782805e-02, -3.17276231e-01],\n",
       "       [ 0.00000000e+00,  0.00000000e+00, -2.74269807e-01],\n",
       "       [ 0.00000000e+00,  0.00000000e+00, -2.87117773e-01],\n",
       "       [ 0.00000000e+00,  1.17699095e+00,  0.00000000e+00],\n",
       "       [ 0.00000000e+00, -1.05377828e+00,  8.53139186e-01],\n",
       "       [ 0.00000000e+00, -8.23009050e-01, -2.69631692e-01],\n",
       "       [ 0.00000000e+00, -5.15316742e-01, -2.23948608e-01],\n",
       "       [ 0.00000000e+00, -4.38393665e-01, -3.17096360e-01],\n",
       "       [-2.00000000e+00,  2.17699095e+00,  4.23215418e+00],\n",
       "       [ 0.00000000e+00, -1.89993213e+00,  2.05743041e-01],\n",
       "       [-2.00000000e+00,  1.71545249e+00,  3.38525910e+00],\n",
       "       [ 0.00000000e+00,  7.92375566e-01,  5.75837259e-01],\n",
       "       [-2.00000000e+00, -1.43839367e+00,  4.52016274e+00],\n",
       "       [ 0.00000000e+00,  2.71545249e+00, -2.87117773e-01],\n",
       "       [-2.00000000e+00, -8.99932127e-01,  2.79211135e+00],\n",
       "       [-1.00000000e+00,  1.76990950e-01, -1.69344754e-01],\n",
       "       [-2.00000000e+00,  1.56160633e+00,  9.98143897e+00],\n",
       "       [-1.00000000e+00,  4.07760181e-01,  2.80334047e-01],\n",
       "       [ 0.00000000e+00, -8.23009050e-01, -2.81584582e-01],\n",
       "       [ 0.00000000e+00, -6.69162896e-01, -2.86047109e-01],\n",
       "       [-1.00000000e+00, -1.28454751e+00,  2.16094218e-01],\n",
       "       [-1.00000000e+00, -1.30701357e-01,  4.94466809e-01],\n",
       "       [-2.00000000e+00,  0.00000000e+00,  4.91254818e-01],\n",
       "       [ 0.00000000e+00,  0.00000000e+00, -2.87117773e-01],\n",
       "       [-1.00000000e+00,  2.10006787e+00, -1.69344754e-01],\n",
       "       [-1.00000000e+00, -6.69162896e-01,  2.52872805e+00],\n",
       "       [ 0.00000000e+00, -5.37782805e-02, -2.81764454e-01],\n",
       "       [ 0.00000000e+00, -9.76855204e-01, -3.09421842e-01],\n",
       "       [-2.00000000e+00,  1.71545249e+00,  2.73286938e+00],\n",
       "       [-1.00000000e+00, -2.84547511e-01,  4.94466809e-01],\n",
       "       [-2.00000000e+00, -8.99932127e-01,  1.06175931e+01],\n",
       "       [-2.00000000e+00, -2.84547511e-01,  6.65773019e-01],\n",
       "       [-2.00000000e+00,  7.15452489e-01,  2.94235974e+00],\n",
       "       [ 0.00000000e+00, -5.15316742e-01, -2.82655246e-01],\n",
       "       [ 0.00000000e+00,  4.84683258e-01,  4.69293362e-02],\n",
       "       [ 0.00000000e+00,  6.16063348e-02, -2.87117773e-01],\n",
       "       [-2.00000000e+00, -5.92239819e-01,  1.50089079e+00],\n",
       "       [-1.00000000e+00,  6.38529412e-01, -6.22783726e-02],\n",
       "       [ 0.00000000e+00,  8.69298643e-01,  2.46608137e-01],\n",
       "       [ 0.00000000e+00, -1.05377828e+00,  1.08065525e+00],\n",
       "       [-1.00000000e+00, -5.37782805e-02, -1.69344754e-01],\n",
       "       [-2.00000000e+00,  7.92375566e-01,  5.14114775e+00],\n",
       "       [ 0.00000000e+00,  0.00000000e+00, -2.87653105e-01],\n",
       "       [-2.00000000e+00,  2.02314480e+00,  6.95571734e-01],\n",
       "       [-2.00000000e+00,  3.17699095e+00,  1.50107066e+00],\n",
       "       [-2.00000000e+00,  1.00067873e-01,  4.23215418e+00],\n",
       "       [-2.00000000e+00,  2.31447964e-02,  1.81905782e+00],\n",
       "       [-2.00000000e+00,  6.38529412e-01, -6.19023555e-01],\n",
       "       [ 0.00000000e+00,  0.00000000e+00, -3.08531049e-01],\n",
       "       [ 0.00000000e+00, -1.59223982e+00,  2.59991435e-01],\n",
       "       [ 0.00000000e+00, -1.59223982e+00,  7.20376874e-01],\n",
       "       [-2.00000000e+00,  2.40776018e+00,  7.65164882e-01],\n",
       "       [ 0.00000000e+00,  0.00000000e+00, -2.88008565e-01],\n",
       "       [ 0.00000000e+00,  0.00000000e+00, -2.80873662e-01],\n",
       "       [ 0.00000000e+00, -1.30701357e-01, -2.82655246e-01],\n",
       "       [-2.00000000e+00,  1.40776018e+00,  1.60795717e+00],\n",
       "       [ 0.00000000e+00,  1.17699095e+00, -2.74269807e-01],\n",
       "       [-1.00000000e+00,  4.84683258e-01, -6.22783726e-02],\n",
       "       [ 0.00000000e+00, -2.07624434e-01, -2.80873662e-01],\n",
       "       [-2.00000000e+00,  2.63852941e+00,  4.94466809e-01],\n",
       "       [ 0.00000000e+00,  4.07760181e-01, -3.13884368e-01],\n",
       "       [-2.00000000e+00, -8.23009050e-01,  3.28158458e+00],\n",
       "       [ 0.00000000e+00,  6.38529412e-01, -3.17096360e-01],\n",
       "       [ 0.00000000e+00,  6.16063348e-02, -2.74269807e-01],\n",
       "       [ 0.00000000e+00, -3.61470588e-01, -2.86047109e-01],\n",
       "       [-1.00000000e+00,  7.92375566e-01,  1.05121199e+00],\n",
       "       [-2.00000000e+00,  1.33083710e+00,  1.02979872e+00],\n",
       "       [ 0.00000000e+00,  2.31447964e-02, -2.12171306e-01],\n",
       "       [-2.00000000e+00,  7.92375566e-01,  7.08599572e-01],\n",
       "       [-2.00000000e+00,  0.00000000e+00,  1.60795717e+00],\n",
       "       [ 0.00000000e+00, -7.07624434e-01, -3.08531049e-01],\n",
       "       [-2.00000000e+00,  0.00000000e+00,  3.19700214e+00],\n",
       "       [-2.00000000e+00,  4.84683258e-01,  5.06779443e-01],\n",
       "       [-2.00000000e+00,  0.00000000e+00,  8.87901499e+00],\n",
       "       [ 0.00000000e+00, -7.46085973e-01, -1.97361884e-01],\n",
       "       [-2.00000000e+00,  3.17699095e+00,  8.65096360e-01],\n",
       "       [-1.00000000e+00,  4.84683258e-01, -6.76316916e-02],\n",
       "       [-1.00000000e+00, -5.92239819e-01,  6.22946467e-01],\n",
       "       [ 0.00000000e+00,  1.40776018e+00,  8.53139186e-01],\n",
       "       [-1.00000000e+00, -5.15316742e-01, -1.26518201e-01],\n",
       "       [-2.00000000e+00,  1.76990950e-01,  2.64828694e+00],\n",
       "       [-2.00000000e+00,  2.56160633e+00,  2.71966167e+00],\n",
       "       [-1.00000000e+00, -2.22070136e+00,  6.22946467e-01],\n",
       "       [ 0.00000000e+00, -3.61470588e-01, -3.08531049e-01],\n",
       "       [-2.00000000e+00,  4.07760181e-01,  5.18021413e-01],\n",
       "       [-2.00000000e+00,  1.48468326e+00,  4.91434690e-01],\n",
       "       [-2.00000000e+00, -4.38393665e-01,  2.77283940e+00],\n",
       "       [ 0.00000000e+00,  0.00000000e+00,  1.75588865e-04],\n",
       "       [ 0.00000000e+00, -6.69162896e-01, -2.74269807e-01],\n",
       "       [ 0.00000000e+00,  0.00000000e+00, -2.81584582e-01],\n",
       "       [ 0.00000000e+00,  0.00000000e+00,  3.39014989e-02],\n",
       "       [-1.00000000e+00,  0.00000000e+00, -6.19023555e-01],\n",
       "       [ 0.00000000e+00, -1.89993213e+00, -8.47623126e-02],\n",
       "       [-2.00000000e+00,  1.48468326e+00,  1.81905782e+00],\n",
       "       [ 0.00000000e+00, -1.13070136e+00,  0.00000000e+00],\n",
       "       [-2.00000000e+00,  0.00000000e+00,  4.12972591e+00],\n",
       "       [ 0.00000000e+00, -5.37782805e-02, -2.86047109e-01],\n",
       "       [ 0.00000000e+00,  9.46221719e-01, -2.95683084e-01],\n",
       "       [ 0.00000000e+00, -8.99932127e-01,  1.43289079e-01],\n",
       "       [ 0.00000000e+00, -6.69162896e-01, -2.57854390e-01],\n",
       "       [-1.00000000e+00,  1.10006787e+00,  4.94466809e-01],\n",
       "       [-1.00000000e+00, -1.30701357e-01, -6.22783726e-02],\n",
       "       [-1.00000000e+00,  5.61606335e-01,  4.94466809e-01],\n",
       "       [ 0.00000000e+00,  7.15452489e-01,  6.28299786e-01],\n",
       "       [-1.00000000e+00,  3.30837104e-01,  7.72839400e-01],\n",
       "       [-1.00000000e+00,  2.31447964e-02, -6.22783726e-02],\n",
       "       [-1.00000000e+00,  2.79237557e+00, -1.69344754e-01],\n",
       "       [-2.00000000e+00,  0.00000000e+00,  5.65595717e+00],\n",
       "       [ 0.00000000e+00,  1.02314480e+00, -2.74269807e-01],\n",
       "       [ 0.00000000e+00,  0.00000000e+00, -2.45897216e-01],\n",
       "       [ 0.00000000e+00, -4.38393665e-01, -2.98004283e-01],\n",
       "       [ 0.00000000e+00, -8.99932127e-01, -2.85156317e-01],\n",
       "       [ 0.00000000e+00,  0.00000000e+00,  4.15237687e-01],\n",
       "       [ 0.00000000e+00,  0.00000000e+00, -2.74269807e-01],\n",
       "       [ 0.00000000e+00,  0.00000000e+00, -3.17096360e-01],\n",
       "       [ 0.00000000e+00,  0.00000000e+00,  1.80049679e+00],\n",
       "       [ 0.00000000e+00,  0.00000000e+00, -2.85511777e-01],\n",
       "       [-1.00000000e+00,  4.84683258e-01,  4.94466809e-01],\n",
       "       [ 0.00000000e+00,  1.76990950e-01,  4.47880086e-02],\n",
       "       [ 0.00000000e+00, -4.76855204e-01, -3.09421842e-01],\n",
       "       [-2.00000000e+00,  0.00000000e+00,  5.18021413e-01],\n",
       "       [-1.00000000e+00,  7.15452489e-01, -6.22783726e-02],\n",
       "       [-2.00000000e+00,  0.00000000e+00,  2.90006852e+00],\n",
       "       [ 0.00000000e+00,  0.00000000e+00, -2.56783726e-01],\n",
       "       [-2.00000000e+00,  2.71545249e+00,  2.03533191e+00],\n",
       "       [-1.00000000e+00, -5.15316742e-01, -1.69344754e-01],\n",
       "       [-2.00000000e+00,  0.00000000e+00,  1.60206852e+00],\n",
       "       [ 0.00000000e+00, -5.92239819e-01, -2.80873662e-01],\n",
       "       [ 0.00000000e+00,  4.07760181e-01, -3.17096360e-01],\n",
       "       [-2.00000000e+00, -5.15316742e-01,  2.09439400e+00],\n",
       "       [-1.00000000e+00, -8.99932127e-01, -6.22783726e-02],\n",
       "       [-2.00000000e+00,  4.84683258e-01,  5.11062099e-01],\n",
       "       [ 0.00000000e+00, -1.59223982e+00,  3.39014989e-02],\n",
       "       [ 0.00000000e+00, -9.76855204e-01, -3.13884368e-01],\n",
       "       [ 0.00000000e+00,  0.00000000e+00, -3.09601713e-01],\n",
       "       [ 0.00000000e+00,  6.38529412e-01,  7.25194861e-01],\n",
       "       [-1.00000000e+00, -9.76855204e-01, -1.69344754e-01],\n",
       "       [ 0.00000000e+00, -1.97685520e+00,  9.61798715e-02],\n",
       "       [-2.00000000e+00,  1.21545249e+00,  6.01533191e-01],\n",
       "       [-1.00000000e+00, -5.15316742e-01, -6.22783726e-02],\n",
       "       [ 0.00000000e+00,  1.76990950e-01, -2.79623126e-01],\n",
       "       [ 0.00000000e+00, -2.84547511e-01, -2.82655246e-01],\n",
       "       [ 0.00000000e+00, -1.82300905e+00,  7.20376874e-01],\n",
       "       [-2.00000000e+00, -4.38393665e-01,  9.98143897e+00],\n",
       "       [-2.00000000e+00,  1.17699095e+00,  5.18021413e-01],\n",
       "       [-1.00000000e+00, -5.37782805e-02,  5.68162741e-01],\n",
       "       [ 0.00000000e+00,  0.00000000e+00, -2.80873662e-01],\n",
       "       [-2.00000000e+00,  0.00000000e+00,  9.01319058e-01],\n",
       "       [-1.00000000e+00,  9.46221719e-01, -6.22783726e-02],\n",
       "       [ 0.00000000e+00,  4.84683258e-01,  4.15237687e-01],\n",
       "       [-1.00000000e+00,  2.53914027e-01, -9.33276231e-02],\n",
       "       [ 0.00000000e+00, -9.76855204e-01, -3.16916488e-01],\n",
       "       [ 0.00000000e+00, -5.37782805e-02, -2.12171306e-01],\n",
       "       [-1.00000000e+00,  1.56160633e+00,  4.94466809e-01],\n",
       "       [-2.00000000e+00,  4.07760181e-01,  3.23536617e+00],\n",
       "       [-2.00000000e+00,  6.38529412e-01,  9.12508779e+00],\n",
       "       [-1.00000000e+00,  3.30837104e-01, -6.22783726e-02],\n",
       "       [-2.00000000e+00, -9.76855204e-01,  1.82208994e+00],\n",
       "       [ 0.00000000e+00, -1.43839367e+00,  7.20376874e-01],\n",
       "       [ 0.00000000e+00,  2.40776018e+00, -3.51892934e-01],\n",
       "       [ 0.00000000e+00,  2.31447964e-02, -2.48038544e-01],\n",
       "       [-1.00000000e+00, -1.74608597e+00,  5.05173448e-01],\n",
       "       [ 0.00000000e+00,  2.56160633e+00, -2.08423983e-01],\n",
       "       [ 0.00000000e+00, -7.46085973e-01, -3.09421842e-01],\n",
       "       [ 0.00000000e+00,  0.00000000e+00,  3.38505353e-01],\n",
       "       [ 0.00000000e+00, -5.37782805e-02, -2.12886510e-01],\n",
       "       [-2.00000000e+00,  4.84683258e-01,  4.52016274e+00],\n",
       "       [ 0.00000000e+00,  0.00000000e+00,  1.75588865e-04],\n",
       "       [ 0.00000000e+00,  1.56160633e+00, -2.74269807e-01],\n",
       "       [-2.00000000e+00, -2.07624434e-01,  8.43879229e+00],\n",
       "       [ 0.00000000e+00,  2.31447964e-02, -3.08531049e-01],\n",
       "       [-2.00000000e+00,  2.53914027e-01,  3.23536617e+00],\n",
       "       [ 0.00000000e+00,  0.00000000e+00, -2.88188437e-01],\n",
       "       [ 0.00000000e+00,  0.00000000e+00,  4.71627409e-01],\n",
       "       [ 0.00000000e+00, -2.13070136e+00,  2.83546039e-01],\n",
       "       [-1.00000000e+00, -3.61470588e-01,  6.65773019e-01],\n",
       "       [-2.00000000e+00,  1.63852941e+00,  2.00963597e+00],\n",
       "       [-1.00000000e+00, -3.61470588e-01,  4.94466809e-01],\n",
       "       [ 0.00000000e+00,  0.00000000e+00, -3.08531049e-01],\n",
       "       [ 0.00000000e+00,  0.00000000e+00, -2.80873662e-01],\n",
       "       [-1.00000000e+00, -4.38393665e-01, -6.22783726e-02],\n",
       "       [ 0.00000000e+00, -8.99932127e-01,  2.46608137e-01],\n",
       "       [-2.00000000e+00,  0.00000000e+00,  6.87186296e-01],\n",
       "       [ 0.00000000e+00, -3.61470588e-01, -3.17096360e-01],\n",
       "       [-1.00000000e+00, -4.38393665e-01,  1.96145610e-03],\n",
       "       [ 0.00000000e+00, -5.92239819e-01, -2.96933619e-01],\n",
       "       [-2.00000000e+00, -2.21377828e+00,  5.87134047e+00],\n",
       "       [-1.00000000e+00, -4.38393665e-01,  4.94466809e-01],\n",
       "       [ 0.00000000e+00, -2.84547511e-01, -2.79623126e-01],\n",
       "       [-1.00000000e+00,  3.30837104e-01,  2.80334047e-01],\n",
       "       [-2.00000000e+00, -6.69162896e-01,  1.06175931e+01],\n",
       "       [ 0.00000000e+00,  0.00000000e+00, -2.87117773e-01],\n",
       "       [ 0.00000000e+00,  0.00000000e+00, -3.09421842e-01],\n",
       "       [ 0.00000000e+00,  0.00000000e+00, -2.48038544e-01],\n",
       "       [ 0.00000000e+00, -5.92239819e-01, -2.86047109e-01],\n",
       "       [-2.00000000e+00,  2.48468326e+00,  2.80710064e+00],\n",
       "       [ 0.00000000e+00, -8.99932127e-01, -1.97537473e-01],\n",
       "       [-2.00000000e+00,  9.46221719e-01,  9.12508779e+00],\n",
       "       [-1.00000000e+00,  2.10006787e+00, -9.01156317e-02],\n",
       "       [ 0.00000000e+00, -8.23009050e-01, -6.19023555e-01],\n",
       "       [-1.00000000e+00,  9.46221719e-01,  4.94466809e-01],\n",
       "       [ 0.00000000e+00,  0.00000000e+00, -3.09601713e-01],\n",
       "       [ 0.00000000e+00, -7.46085973e-01, -2.48038544e-01],\n",
       "       [ 0.00000000e+00,  3.69298643e-01, -3.43327623e-01],\n",
       "       [ 0.00000000e+00, -1.30701357e-01, -2.12171306e-01],\n",
       "       [ 0.00000000e+00,  0.00000000e+00, -2.74269807e-01],\n",
       "       [ 0.00000000e+00, -5.15316742e-01, -2.80873662e-01],\n",
       "       [ 0.00000000e+00, -5.92239819e-01, -3.08531049e-01],\n",
       "       [-2.00000000e+00,  1.71545249e+00,  6.87186296e-01],\n",
       "       [ 0.00000000e+00,  2.31447964e-02, -8.47623126e-02],\n",
       "       [-1.00000000e+00,  5.23144796e-01,  4.94466809e-01],\n",
       "       [ 0.00000000e+00,  0.00000000e+00, -2.87117773e-01],\n",
       "       [ 0.00000000e+00, -5.92239819e-01, -3.09421842e-01],\n",
       "       [-2.00000000e+00,  1.56160633e+00,  5.10474518e+00],\n",
       "       [ 0.00000000e+00, -2.07624434e-01, -3.20308351e-01],\n",
       "       [ 0.00000000e+00, -5.92239819e-01, -2.74269807e-01],\n",
       "       [-2.00000000e+00,  1.63852941e+00,  2.71966167e+00],\n",
       "       [-1.00000000e+00,  4.84683258e-01, -1.69344754e-01],\n",
       "       [-1.00000000e+00, -5.37782805e-02,  4.94466809e-01],\n",
       "       [-2.00000000e+00, -5.92239819e-01,  5.87134047e+00],\n",
       "       [-2.00000000e+00,  1.56160633e+00,  3.93879229e+00],\n",
       "       [-1.00000000e+00,  7.92375566e-01, -6.22783726e-02],\n",
       "       [ 0.00000000e+00, -2.07624434e-01, -2.48038544e-01],\n",
       "       [-2.00000000e+00,  0.00000000e+00, -6.19023555e-01],\n",
       "       [-2.00000000e+00,  2.71545249e+00,  5.18021413e-01],\n",
       "       [ 0.00000000e+00, -9.76855204e-01, -2.48038544e-01],\n",
       "       [-2.00000000e+00, -1.30701357e-01,  5.18021413e-01],\n",
       "       [-2.00000000e+00, -1.97685520e+00,  2.88668522e+00],\n",
       "       [ 0.00000000e+00,  0.00000000e+00, -2.80873662e-01],\n",
       "       [ 0.00000000e+00, -2.20762443e+00, -1.42222698e-01],\n",
       "       [-1.00000000e+00,  4.84683258e-01,  5.69413276e-01],\n",
       "       [-1.00000000e+00,  1.02314480e+00,  5.05173448e-01],\n",
       "       [-2.00000000e+00,  6.38529412e-01,  5.95324625e+00],\n",
       "       [-1.00000000e+00,  1.00067873e-01,  5.05173448e-01],\n",
       "       [ 0.00000000e+00, -5.37782805e-02, -2.74269807e-01],\n",
       "       [ 0.00000000e+00, -8.99932127e-01, -2.63563169e-01],\n",
       "       [-1.00000000e+00,  0.00000000e+00,  2.55160600e-02],\n",
       "       [-2.00000000e+00,  7.15452489e-01,  4.12972591e+00],\n",
       "       [-1.00000000e+00,  7.15452489e-01, -6.22783726e-02],\n",
       "       [ 0.00000000e+00, -2.84547511e-01, -2.48038544e-01],\n",
       "       [ 0.00000000e+00, -7.46085973e-01, -3.17096360e-01],\n",
       "       [-2.00000000e+00,  0.00000000e+00,  5.10474518e+00],\n",
       "       [ 0.00000000e+00,  1.48468326e+00, -6.19023555e-01],\n",
       "       [-1.00000000e+00, -5.15316742e-01,  2.53361884e-02],\n",
       "       [ 0.00000000e+00, -2.20762443e+00,  1.08065525e+00],\n",
       "       [ 0.00000000e+00,  0.00000000e+00, -2.81584582e-01],\n",
       "       [ 0.00000000e+00,  0.00000000e+00,  3.85259101e-01],\n",
       "       [-1.00000000e+00, -2.05377828e+00,  4.94466809e-01],\n",
       "       [ 0.00000000e+00, -1.97685520e+00, -1.42222698e-01],\n",
       "       [ 0.00000000e+00, -8.23009050e-01, -2.91400428e-01],\n",
       "       [ 0.00000000e+00,  8.30837104e-01, -2.87117773e-01],\n",
       "       [ 0.00000000e+00, -2.20762443e+00,  5.51391863e-02],\n",
       "       [ 0.00000000e+00,  0.00000000e+00,  3.39014989e-02],\n",
       "       [ 0.00000000e+00, -6.69162896e-01, -2.79623126e-01]])"
      ]
     },
     "execution_count": 49,
     "metadata": {},
     "output_type": "execute_result"
    }
   ],
   "source": [
    "scaler.transform(X_test)"
   ]
  },
  {
   "cell_type": "code",
   "execution_count": 54,
   "id": "69273071",
   "metadata": {},
   "outputs": [
    {
     "name": "stderr",
     "output_type": "stream",
     "text": [
      "C:\\Users\\Rohit Kumar (Prince)\\anaconda3\\lib\\site-packages\\seaborn\\distributions.py:2557: FutureWarning: `distplot` is a deprecated function and will be removed in a future version. Please adapt your code to use either `displot` (a figure-level function with similar flexibility) or `histplot` (an axes-level function for histograms).\n",
      "  warnings.warn(msg, FutureWarning)\n"
     ]
    },
    {
     "data": {
      "text/plain": [
       "<AxesSubplot:xlabel='1', ylabel='Density'>"
      ]
     },
     "execution_count": 54,
     "metadata": {},
     "output_type": "execute_result"
    },
    {
     "data": {
      "image/png": "[encoded data removed]",
      "text/plain": [
       "<Figure size 432x288 with 1 Axes>"
      ]
     },
     "metadata": {
      "needs_background": "light"
     },
     "output_type": "display_data"
    }
   ],
   "source": [
    "sns.distplot(df_robust_scaler[1])"
   ]
  },
  {
   "cell_type": "markdown",
   "id": "7e061e8c",
   "metadata": {},
   "source": [
    "## 4. Guassian Transformation\n",
    "\n",
    "Some machine learning algorithms like linear and logistic assume that the features are normally distributed\n",
    "-Accuracy\n",
    "-Performance\n",
    "- logarithmic transformation\n",
    "- reciprocal transformation\n",
    "- square root transformation\n",
    "- exponential transformation (more general, you can use any exponent)\n",
    "- boxcox transformation\n"
   ]
  },
  {
   "cell_type": "code",
   "execution_count": 57,
   "id": "9e832fa2",
   "metadata": {},
   "outputs": [
    {
     "data": {
      "text/html": [
       "<div>\n",
       "<style scoped>\n",
       "    .dataframe tbody tr th:only-of-type {\n",
       "        vertical-align: middle;\n",
       "    }\n",
       "\n",
       "    .dataframe tbody tr th {\n",
       "        vertical-align: top;\n",
       "    }\n",
       "\n",
       "    .dataframe thead th {\n",
       "        text-align: right;\n",
       "    }\n",
       "</style>\n",
       "<table border=\"1\" class=\"dataframe\">\n",
       "  <thead>\n",
       "    <tr style=\"text-align: right;\">\n",
       "      <th></th>\n",
       "      <th>Survived</th>\n",
       "      <th>Age</th>\n",
       "      <th>Fare</th>\n",
       "    </tr>\n",
       "  </thead>\n",
       "  <tbody>\n",
       "    <tr>\n",
       "      <th>0</th>\n",
       "      <td>0</td>\n",
       "      <td>22.0</td>\n",
       "      <td>7.2500</td>\n",
       "    </tr>\n",
       "    <tr>\n",
       "      <th>1</th>\n",
       "      <td>1</td>\n",
       "      <td>38.0</td>\n",
       "      <td>71.2833</td>\n",
       "    </tr>\n",
       "    <tr>\n",
       "      <th>2</th>\n",
       "      <td>1</td>\n",
       "      <td>26.0</td>\n",
       "      <td>7.9250</td>\n",
       "    </tr>\n",
       "    <tr>\n",
       "      <th>3</th>\n",
       "      <td>1</td>\n",
       "      <td>35.0</td>\n",
       "      <td>53.1000</td>\n",
       "    </tr>\n",
       "    <tr>\n",
       "      <th>4</th>\n",
       "      <td>0</td>\n",
       "      <td>35.0</td>\n",
       "      <td>8.0500</td>\n",
       "    </tr>\n",
       "  </tbody>\n",
       "</table>\n",
       "</div>"
      ],
      "text/plain": [
       "   Survived   Age     Fare\n",
       "0         0  22.0   7.2500\n",
       "1         1  38.0  71.2833\n",
       "2         1  26.0   7.9250\n",
       "3         1  35.0  53.1000\n",
       "4         0  35.0   8.0500"
      ]
     },
     "execution_count": 57,
     "metadata": {},
     "output_type": "execute_result"
    }
   ],
   "source": [
    "df=pd.read_csv('titanic_train.csv',usecols=['Age','Fare','Survived'])\n",
    "df.head()"
   ]
  },
  {
   "cell_type": "code",
   "execution_count": 58,
   "id": "5ff7186b",
   "metadata": {},
   "outputs": [],
   "source": [
    "### fillnan\n",
    "df['Age']=df['Age'].fillna(df['Age'].median())"
   ]
  },
  {
   "cell_type": "code",
   "execution_count": 59,
   "id": "fc77cd14",
   "metadata": {},
   "outputs": [
    {
     "data": {
      "text/plain": [
       "Survived    0\n",
       "Age         0\n",
       "Fare        0\n",
       "dtype: int64"
      ]
     },
     "execution_count": 59,
     "metadata": {},
     "output_type": "execute_result"
    }
   ],
   "source": [
    "df.isnull().sum()"
   ]
  },
  {
   "cell_type": "code",
   "execution_count": 60,
   "id": "3d0f2d2e",
   "metadata": {},
   "outputs": [],
   "source": [
    "import matplotlib.pyplot as plt\n",
    "import scipy.stats as stat\n",
    "import pylab "
   ]
  },
  {
   "cell_type": "code",
   "execution_count": 61,
   "id": "22a8cec4",
   "metadata": {},
   "outputs": [],
   "source": [
    "#### If you want to check whether feature is guassian or normal distributed\n",
    "#### Q-Q plot\n",
    "def plot_data(df,feature):\n",
    "    plt.figure(figsize=(10,6))\n",
    "    plt.subplot(1,2,1)\n",
    "    df[feature].hist()\n",
    "    plt.subplot(1,2,2)\n",
    "    stat.probplot(df[feature],dist='norm',plot=pylab)\n",
    "    plt.show()\n",
    "    "
   ]
  },
  {
   "cell_type": "code",
   "execution_count": 62,
   "id": "7def9149",
   "metadata": {},
   "outputs": [
    {
     "data": {
      "image/png": "[encoded data removed]",
      "text/plain": [
       "<Figure size 720x432 with 2 Axes>"
      ]
     },
     "metadata": {
      "needs_background": "light"
     },
     "output_type": "display_data"
    }
   ],
   "source": [
    "plot_data(df,'Age')"
   ]
  },
  {
   "cell_type": "markdown",
   "id": "850ebc1f",
   "metadata": {},
   "source": [
    "#### Logarithmic Transformation"
   ]
  },
  {
   "cell_type": "code",
   "execution_count": 63,
   "id": "9c982e7b",
   "metadata": {},
   "outputs": [
    {
     "data": {
      "image/png": "[encoded data removed]",
      "text/plain": [
       "<Figure size 720x432 with 2 Axes>"
      ]
     },
     "metadata": {
      "needs_background": "light"
     },
     "output_type": "display_data"
    }
   ],
   "source": [
    "import numpy as np\n",
    "df['Age_log']=np.log(df['Age'])\n",
    "plot_data(df,'Age_log')"
   ]
  },
  {
   "cell_type": "code",
   "execution_count": 64,
   "id": "5d7ddd32",
   "metadata": {},
   "outputs": [
    {
     "data": {
      "image/png": "[encoded data removed]",
      "text/plain": [
       "<Figure size 720x432 with 2 Axes>"
      ]
     },
     "metadata": {
      "needs_background": "light"
     },
     "output_type": "display_data"
    }
   ],
   "source": [
    "#reciprocal\n",
    "df['Age_reciprocal']=1/df.Age\n",
    "plot_data(df,'Age_reciprocal')"
   ]
  },
  {
   "cell_type": "code",
   "execution_count": 65,
   "id": "afa72a70",
   "metadata": {},
   "outputs": [
    {
     "data": {
      "image/png": "[encoded data removed]",
      "text/plain": [
       "<Figure size 720x432 with 2 Axes>"
      ]
     },
     "metadata": {
      "needs_background": "light"
     },
     "output_type": "display_data"
    }
   ],
   "source": [
    "##### Square Root Transformation\n",
    "df['Age_sqaure']=df.Age**(1/2)\n",
    "plot_data(df,'Age_sqaure')"
   ]
  },
  {
   "cell_type": "code",
   "execution_count": 66,
   "id": "f5c2d8d5",
   "metadata": {},
   "outputs": [
    {
     "data": {
      "image/png": "[encoded data removed]",
      "text/plain": [
       "<Figure size 720x432 with 2 Axes>"
      ]
     },
     "metadata": {
      "needs_background": "light"
     },
     "output_type": "display_data"
    }
   ],
   "source": [
    "#### Exponential Transdormation\n",
    "df['Age_exponential']=df.Age**(1/1.2)\n",
    "plot_data(df,'Age_exponential')"
   ]
  },
  {
   "cell_type": "code",
   "execution_count": 67,
   "id": "a040f33f",
   "metadata": {},
   "outputs": [
    {
     "data": {
      "image/png": "[encoded data removed]",
      "text/plain": [
       "<Figure size 720x432 with 2 Axes>"
      ]
     },
     "metadata": {
      "needs_background": "light"
     },
     "output_type": "display_data"
    }
   ],
   "source": [
    "plot_data(df,'Fare')"
   ]
  },
  {
   "cell_type": "code",
   "execution_count": 68,
   "id": "29e4ad48",
   "metadata": {},
   "outputs": [
    {
     "data": {
      "image/png": "[encoded data removed]",
      "text/plain": [
       "<Figure size 720x432 with 2 Axes>"
      ]
     },
     "metadata": {
      "needs_background": "light"
     },
     "output_type": "display_data"
    }
   ],
   "source": [
    "#### Fare\n",
    "df['Fare_log']=np.log1p(df['Fare']) #we use log1p--- beacuse log 0 is nit defined \n",
    "plot_data(df,'Fare_log')"
   ]
  },
  {
   "cell_type": "code",
   "execution_count": null,
   "id": "f497f554",
   "metadata": {},
   "outputs": [],
   "source": []
  }
 ],
 "metadata": {
  "kernelspec": {
   "display_name": "Python 3",
   "language": "python",
   "name": "python3"
  },
  "language_info": {
   "codemirror_mode": {
    "name": "ipython",
    "version": 3
   },
   "file_extension": ".py",
   "mimetype": "text/x-python",
   "name": "python",
   "nbconvert_exporter": "python",
   "pygments_lexer": "ipython3",
   "version": "3.8.8"
  }
 },
 "nbformat": 4,
 "nbformat_minor": 5
}
